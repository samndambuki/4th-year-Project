{
  "nbformat": 4,
  "nbformat_minor": 0,
  "metadata": {
    "colab": {
      "provenance": [],
      "mount_file_id": "1ZQScgmCxxra0ft3aXDT2Q7maeBcSN2ZX",
      "authorship_tag": "ABX9TyND52xzC5km98gOwphgsUJH",
      "include_colab_link": true
    },
    "kernelspec": {
      "name": "python3",
      "display_name": "Python 3"
    },
    "language_info": {
      "name": "python"
    }
  },
  "cells": [
    {
      "cell_type": "markdown",
      "metadata": {
        "id": "view-in-github",
        "colab_type": "text"
      },
      "source": [
        "<a href=\"https://colab.research.google.com/github/samndambuki/4th-year-Project/blob/master/Disease_Prediction.ipynb\" target=\"_parent\"><img src=\"https://colab.research.google.com/assets/colab-badge.svg\" alt=\"Open In Colab\"/></a>"
      ]
    },
    {
      "cell_type": "code",
      "execution_count": 3,
      "metadata": {
        "id": "JpXdOdeMMON1"
      },
      "outputs": [],
      "source": [
        "#importing libraries\n",
        "import numpy as np \n",
        "import pandas as pd\n",
        "from scipy.stats import mode\n",
        "import matplotlib.pyplot as plt\n",
        "import seaborn as sns\n",
        "from sklearn.preprocessing import LabelEncoder\n",
        "from sklearn.model_selection import train_test_split, cross_val_score\n",
        "from sklearn.svm import SVC\n",
        "from sklearn.naive_bayes import GaussianNB\n",
        "from sklearn.ensemble import RandomForestClassifier \n",
        "from sklearn.metrics import accuracy_score, confusion_matrix\n",
        "\n",
        "%matplotlib inline"
      ]
    },
    {
      "cell_type": "code",
      "source": [
        "#Read train.csv\n",
        "DATA_PATH = \"/content/drive/MyDrive/Training.csv\"\n",
        "data = pd.read_csv(DATA_PATH).dropna(axis =1 )\n",
        "\n",
        "#Checking whether dataset is balanced or not\n",
        "disease_counts = data[\"prognosis\"].value_counts()\n",
        "temp_df = pd.DataFrame({\n",
        "    \"Disesase\" : disease_counts.index,\n",
        "    \"Counts\" : disease_counts.values\n",
        "    })\n",
        "\n",
        "plt.figure(figsize = (18,8))\n",
        "\n",
        "\n",
        "\n"
      ],
      "metadata": {
        "id": "2iHuC_wnWDbQ"
      },
      "execution_count": 4,
      "outputs": []
    }
  ]
}